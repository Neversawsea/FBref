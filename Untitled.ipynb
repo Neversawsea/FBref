{
 "cells": [
  {
   "cell_type": "code",
   "execution_count": 28,
   "id": "e9ada479",
   "metadata": {
    "scrolled": false
   },
   "outputs": [],
   "source": [
    "import ScraperFC as sfc\n",
    "import traceback\n",
    "import numpy as np\n",
    "import pandas as pd"
   ]
  },
  {
   "cell_type": "code",
   "execution_count": 29,
   "id": "99c7b70e",
   "metadata": {
    "scrolled": false
   },
   "outputs": [],
   "source": [
    "def data(year = 2022, league = 'EPL'):\n",
    "\n",
    "    scraper = sfc.FBRef()\n",
    "    defensive = scraper.scrape_defensive(year, league, normalize=True, player=True)\n",
    "    shooting = scraper.scrape_shooting(year, league, normalize=True, player=True)\n",
    "    passing = scraper.scrape_passing(year, league, normalize=True, player=True)\n",
    "    passing_types = scraper.scrape_passing_types(year, league, normalize=True, player=True)\n",
    "    goal_shot_creation = scraper.scrape_goal_shot_creation(year, league, normalize=True, player=True)\n",
    "    possession = scraper.scrape_possession(year, league, normalize=True, player=True)\n",
    "    misc = scraper.scrape_misc(year, league, normalize=True, player=True)\n",
    "    scraper.close()\n",
    "    \n",
    "    df = pd.concat([\n",
    "        defensive, \n",
    "        shooting, \n",
    "        passing, \n",
    "        passing_types, \n",
    "        goal_shot_creation, \n",
    "        possession, \n",
    "        misc\n",
    "    ])\n",
    "    \n",
    "    return df #defensive, shooting, passing, passing_types, goal_shot_creation, possession, misc\n",
    "\n",
    "def filter(df):\n",
    "\n",
    "    report = pd.DataFrame()\n",
    "    x = range(len(df)-1)\n",
    "    x = [z+1 for z in x]\n",
    "    for i in x:\n",
    "        df[i] = df[i].drop([\n",
    "                ( 'Unnamed: 0_level_0',     'Rk'),\n",
    "                ( 'Unnamed: 1_level_0', 'Player'),\n",
    "                (        'player_link',       ''),\n",
    "                (          'player_id',       ''),\n",
    "                ( 'Unnamed: 2_level_0', 'Nation'),\n",
    "                ( 'Unnamed: 3_level_0',    'Pos'),\n",
    "                ( 'Unnamed: 4_level_0',  'Squad'),\n",
    "                ( 'Unnamed: 5_level_0',    'Age'),\n",
    "                ( 'Unnamed: 6_level_0',   'Born'),\n",
    "                ( 'Unnamed: 7_level_0',    '90s')], \n",
    "                axis = 1) \n",
    "    \n",
    "    return df"
   ]
  },
  {
   "cell_type": "code",
   "execution_count": 30,
   "id": "a79707fa",
   "metadata": {
    "scrolled": false
   },
   "outputs": [
    {
     "name": "stdout",
     "output_type": "stream",
     "text": [
      "Scraping 2022 EPL defending stats\n",
      "Scraping 2022 EPL shooting stats\n",
      "Scraping 2022 EPL passing stats\n",
      "Scraping 2022 EPL passing type stats\n",
      "Scraping 2022 EPL goal and shot creation stats\n",
      "Scraping 2022 EPL possession stats\n",
      "Scraping 2022 EPL miscellaneous stats\n",
      "  Aerial Duels          Blocks                   Body Parts             ...  \\\n",
      "          Lost Won Won% Blocks  Pass    Sh  ShSv       Head Left Other  ...   \n",
      "0          NaN NaN  NaN   2.82  2.18  0.64  0.00        NaN  NaN   NaN  ...   \n",
      "1          NaN NaN  NaN   1.04  0.82  0.22  0.00        NaN  NaN   NaN  ...   \n",
      "2          NaN NaN  NaN   1.90  1.76  0.13  0.00        NaN  NaN   NaN  ...   \n",
      "3          NaN NaN  NaN   1.79  1.15  0.64  0.06        NaN  NaN   NaN  ...   \n",
      "4          NaN NaN  NaN   1.33  0.67  0.67  0.00        NaN  NaN   NaN  ...   \n",
      "\n",
      "  Unnamed: 6_level_0 Unnamed: 7_level_0 Unnamed: 8_level_0      Vs Dribbles  \\\n",
      "                Born                90s                Att  Gls         Att   \n",
      "0               2000               26.6                NaN  NaN        2.07   \n",
      "1               1996               18.3                NaN  NaN        0.60   \n",
      "2               2001               15.3                NaN  NaN        2.42   \n",
      "3               1998               15.6                NaN  NaN        1.67   \n",
      "4               1995                7.5                NaN  NaN        0.67   \n",
      "\n",
      "                    player_id  \\\n",
      "   Past   Tkl  Tkl%             \n",
      "0  0.71  1.35  65.5  774cf58b   \n",
      "1  0.49  0.11  18.2  f2bf1b0f   \n",
      "2  1.05  1.37  56.8  9b398aea   \n",
      "3  0.77  0.90  53.8  a8c0acb7   \n",
      "4  0.27  0.40  60.0  eaeca114   \n",
      "\n",
      "                                         player_link  \n",
      "                                                      \n",
      "0   https://fbref.com/en/players/774cf58b/Max-Aarons  \n",
      "1    https://fbref.com/en/players/f2bf1b0f/Che-Adams  \n",
      "2  https://fbref.com/en/players/9b398aea/Rayan-Ai...  \n",
      "3  https://fbref.com/en/players/a8c0acb7/Kristoff...  \n",
      "4   https://fbref.com/en/players/eaeca114/Nathan-Ake  \n",
      "\n",
      "[5 rows x 149 columns]\n"
     ]
    }
   ],
   "source": [
    "df = data()\n",
    "print(df.head())"
   ]
  },
  {
   "cell_type": "code",
   "execution_count": 38,
   "id": "7baf5503",
   "metadata": {
    "scrolled": false
   },
   "outputs": [
    {
     "name": "stdout",
     "output_type": "stream",
     "text": [
      "0        1\n",
      "1        2\n",
      "2        3\n",
      "3        4\n",
      "4        5\n",
      "      ... \n",
      "524    525\n",
      "525    526\n",
      "526    527\n",
      "527    528\n",
      "528    529\n",
      "Name: (Unnamed: 0_level_0, Rk), Length: 3703, dtype: object\n"
     ]
    }
   ],
   "source": [
    "df1 = df.loc[:,~df.columns.duplicated()]\n",
    "print(df[( 'Unnamed: 0_level_0',     'Rk')])"
   ]
  },
  {
   "cell_type": "code",
   "execution_count": null,
   "id": "7aba74ec",
   "metadata": {
    "scrolled": true
   },
   "outputs": [],
   "source": []
  }
 ],
 "metadata": {
  "kernelspec": {
   "display_name": "Python 3 (ipykernel)",
   "language": "python",
   "name": "python3"
  },
  "language_info": {
   "codemirror_mode": {
    "name": "ipython",
    "version": 3
   },
   "file_extension": ".py",
   "mimetype": "text/x-python",
   "name": "python",
   "nbconvert_exporter": "python",
   "pygments_lexer": "ipython3",
   "version": "3.9.7"
  }
 },
 "nbformat": 4,
 "nbformat_minor": 5
}
